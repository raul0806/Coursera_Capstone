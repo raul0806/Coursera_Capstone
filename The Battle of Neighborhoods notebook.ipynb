{
 "cells": [
  {
   "cell_type": "markdown",
   "metadata": {
    "collapsed": true,
    "pycharm": {
     "name": "#%% md\n"
    }
   },
   "source": [
    "Final Project\n",
    "Week 5: Capstone Project\n",
    "\n",
    "[Course: Applied Data Science Capstone](https://www.coursera.org/learn/applied-data-science-capstone)\n",
    "\n"
   ]
  },
  {
   "cell_type": "code",
   "execution_count": 1,
   "outputs": [],
   "source": [
    "#imports section\n",
    "import numpy as np\n",
    "import pandas as pd\n",
    "import requests\n",
    "import  folium\n",
    "import matplotlib.cm as cm\n",
    "import matplotlib.colors as colors\n",
    "import matplotlib.pyplot as plt\n",
    "\n",
    "from sklearn.cluster import KMeans\n",
    "from sklearn.cluster import DBSCAN\n",
    "from sklearn.preprocessing import StandardScaler\n",
    "\n",
    "#Params FourSquare\n",
    "CLIENT_ID = 'TRGLOYAOAFILBLJXIOSZPEKOVZVKHDM5EKMGPHFKZ2KRBHQH' # your Foursquare ID\n",
    "CLIENT_SECRET = 'SDTSNNBJ2ZHMIAAMU1IO3VC1QZ0S03OBXI22FDAOGPK5PL0A' # your Foursquare Secret\n",
    "VERSION = '20180605' # Foursquare API version\n",
    "\n"
   ],
   "metadata": {
    "collapsed": false,
    "pycharm": {
     "name": "#%%\n"
    }
   }
  },
  {
   "cell_type": "markdown",
   "source": [
    "Loading data"
   ],
   "metadata": {
    "collapsed": false
   }
  },
  {
   "cell_type": "code",
   "execution_count": 2,
   "outputs": [
    {
     "data": {
      "text/plain": "   Perimetro (m)  Codigo de distrito    Nombre de distrito  \\\n0          10304                   1  CENTRO                 \n1          12834                   2  ARGANZUELA             \n2           9523                   3  RETIRO                 \n3          10862                   4  SALAMANCA              \n4          13401                   5  CHAMARTIN              \n\n  Nombre acentuado del distrito  Numero de barrios  Superficie (m2)  \n0          CENTRO                                6          5231264  \n1          ARGANZUELA                            7          6466400  \n2          RETIRO                                6          5465307  \n3          SALAMANCA                             6          5387243  \n4          CHAMARTÍN                             6          9170122  ",
      "text/html": "<div>\n<style scoped>\n    .dataframe tbody tr th:only-of-type {\n        vertical-align: middle;\n    }\n\n    .dataframe tbody tr th {\n        vertical-align: top;\n    }\n\n    .dataframe thead th {\n        text-align: right;\n    }\n</style>\n<table border=\"1\" class=\"dataframe\">\n  <thead>\n    <tr style=\"text-align: right;\">\n      <th></th>\n      <th>Perimetro (m)</th>\n      <th>Codigo de distrito</th>\n      <th>Nombre de distrito</th>\n      <th>Nombre acentuado del distrito</th>\n      <th>Numero de barrios</th>\n      <th>Superficie (m2)</th>\n    </tr>\n  </thead>\n  <tbody>\n    <tr>\n      <th>0</th>\n      <td>10304</td>\n      <td>1</td>\n      <td>CENTRO</td>\n      <td>CENTRO</td>\n      <td>6</td>\n      <td>5231264</td>\n    </tr>\n    <tr>\n      <th>1</th>\n      <td>12834</td>\n      <td>2</td>\n      <td>ARGANZUELA</td>\n      <td>ARGANZUELA</td>\n      <td>7</td>\n      <td>6466400</td>\n    </tr>\n    <tr>\n      <th>2</th>\n      <td>9523</td>\n      <td>3</td>\n      <td>RETIRO</td>\n      <td>RETIRO</td>\n      <td>6</td>\n      <td>5465307</td>\n    </tr>\n    <tr>\n      <th>3</th>\n      <td>10862</td>\n      <td>4</td>\n      <td>SALAMANCA</td>\n      <td>SALAMANCA</td>\n      <td>6</td>\n      <td>5387243</td>\n    </tr>\n    <tr>\n      <th>4</th>\n      <td>13401</td>\n      <td>5</td>\n      <td>CHAMARTIN</td>\n      <td>CHAMARTÍN</td>\n      <td>6</td>\n      <td>9170122</td>\n    </tr>\n  </tbody>\n</table>\n</div>"
     },
     "execution_count": 2,
     "metadata": {},
     "output_type": "execute_result"
    }
   ],
   "source": [
    "#url='https://datos.madrid.es/egob/catalogo/200078-1-distritos-barrios.csv'\n",
    "url='https://datos.madrid.es/egob/catalogo/200078-4-distritos-barrios.csv'\n",
    "dfDistrito=pd.read_csv(url,delimiter=';',encoding = \"ISO-8859-1\")\n",
    "dfDistrito.head()\n"
   ],
   "metadata": {
    "collapsed": false,
    "pycharm": {
     "name": "#%%\n"
    }
   }
  },
  {
   "cell_type": "code",
   "execution_count": 3,
   "outputs": [],
   "source": [
    "#loading latitudes and longitudes\n",
    "from geopy.geocoders import Nominatim\n",
    "address = ',Madrid,Spain'\n",
    "latitude=[]\n",
    "longitude=[]\n",
    "for i in dfDistrito['Nombre de distrito']:\n",
    "    geolocator = Nominatim(user_agent=\"ny_explorer\")\n",
    "    location = geolocator.geocode(i+address)\n",
    "    latitude.append(location.latitude)\n",
    "    longitude.append(location.longitude)\n"
   ],
   "metadata": {
    "collapsed": false,
    "pycharm": {
     "name": "#%%\n"
    }
   }
  },
  {
   "cell_type": "code",
   "execution_count": 4,
   "outputs": [
    {
     "data": {
      "text/plain": "   Codigo de distrito    Nombre de distrito   Latitude  Longitude\n0                   1  CENTRO                40.417653  -3.707914\n1                   2  ARGANZUELA            40.398068  -3.693734\n2                   3  RETIRO                40.411150  -3.676057\n3                   4  SALAMANCA             40.427045  -3.680602\n4                   5  CHAMARTIN             40.458987  -3.676129",
      "text/html": "<div>\n<style scoped>\n    .dataframe tbody tr th:only-of-type {\n        vertical-align: middle;\n    }\n\n    .dataframe tbody tr th {\n        vertical-align: top;\n    }\n\n    .dataframe thead th {\n        text-align: right;\n    }\n</style>\n<table border=\"1\" class=\"dataframe\">\n  <thead>\n    <tr style=\"text-align: right;\">\n      <th></th>\n      <th>Codigo de distrito</th>\n      <th>Nombre de distrito</th>\n      <th>Latitude</th>\n      <th>Longitude</th>\n    </tr>\n  </thead>\n  <tbody>\n    <tr>\n      <th>0</th>\n      <td>1</td>\n      <td>CENTRO</td>\n      <td>40.417653</td>\n      <td>-3.707914</td>\n    </tr>\n    <tr>\n      <th>1</th>\n      <td>2</td>\n      <td>ARGANZUELA</td>\n      <td>40.398068</td>\n      <td>-3.693734</td>\n    </tr>\n    <tr>\n      <th>2</th>\n      <td>3</td>\n      <td>RETIRO</td>\n      <td>40.411150</td>\n      <td>-3.676057</td>\n    </tr>\n    <tr>\n      <th>3</th>\n      <td>4</td>\n      <td>SALAMANCA</td>\n      <td>40.427045</td>\n      <td>-3.680602</td>\n    </tr>\n    <tr>\n      <th>4</th>\n      <td>5</td>\n      <td>CHAMARTIN</td>\n      <td>40.458987</td>\n      <td>-3.676129</td>\n    </tr>\n  </tbody>\n</table>\n</div>"
     },
     "execution_count": 4,
     "metadata": {},
     "output_type": "execute_result"
    }
   ],
   "source": [
    "dfDistrito.drop(columns=['Perimetro (m)','Nombre acentuado del distrito', 'Numero de barrios', 'Superficie (m2)'],inplace=True)\n",
    "dfDistrito.insert(2,\"Latitude\",latitude,True)\n",
    "dfDistrito.insert(3,\"Longitude\",longitude,True)\n",
    "dfDistrito.head()"
   ],
   "metadata": {
    "collapsed": false,
    "pycharm": {
     "name": "#%%\n"
    }
   }
  },
  {
   "cell_type": "markdown",
   "source": [
    "Explore Neighborhoods in Madrid"
   ],
   "metadata": {
    "collapsed": false,
    "pycharm": {
     "name": "#%% md\n"
    }
   }
  },
  {
   "cell_type": "code",
   "execution_count": 5,
   "outputs": [],
   "source": [
    "#list of category from FourSquare\n",
    "url = 'https://api.foursquare.com/v2/venues/categories?&client_id={}&client_secret={}&v={}'.format(\n",
    "            CLIENT_ID,\n",
    "            CLIENT_SECRET,\n",
    "            VERSION)\n",
    "# make the GET request\n",
    "results = requests.get(url).json()['response']['categories']\n",
    "\n",
    "categories = []\n",
    "for x in results:\n",
    "    y = x['categories']\n",
    "    for subcategory in y:\n",
    "        categories.append(subcategory['name'])"
   ],
   "metadata": {
    "collapsed": false,
    "pycharm": {
     "name": "#%%\n"
    }
   }
  },
  {
   "cell_type": "code",
   "execution_count": 6,
   "outputs": [],
   "source": [
    "def getNearbyVenues(names, latitudes, longitudes, radius=500,LIMIT=500):\n",
    "\n",
    "    venues_list=[]\n",
    "    for name, lat, lng in zip(names, latitudes, longitudes):\n",
    "        print(name)\n",
    "\n",
    "        # create the API request URL\n",
    "        url = 'https://api.foursquare.com/v2/venues/explore?&client_id={}&client_secret={}&v={}&ll={},{}&radius={}&limit={}'.format(\n",
    "            CLIENT_ID,\n",
    "            CLIENT_SECRET,\n",
    "            VERSION,\n",
    "            lat,\n",
    "            lng,\n",
    "            radius,\n",
    "            LIMIT)\n",
    "\n",
    "        # make the GET request\n",
    "        results = requests.get(url).json()[\"response\"]['groups'][0]['items']\n",
    "\n",
    "        # return only relevant information for each nearby venue\n",
    "        venues_list.append([(\n",
    "            name,\n",
    "            lat,\n",
    "            lng,\n",
    "            v['venue']['name'],\n",
    "            v['venue']['location']['lat'],\n",
    "            v['venue']['location']['lng'],\n",
    "            v['venue']['categories'][0]['name']) for v in results])\n",
    "\n",
    "    nearby_venues = pd.DataFrame([item for venue_list in venues_list for item in venue_list])\n",
    "    nearby_venues.columns = ['Neighborhood',\n",
    "                  'Neighborhood Latitude',\n",
    "                  'Neighborhood Longitude',\n",
    "                  'Venue',\n",
    "                  'Venue Latitude',\n",
    "                  'Venue Longitude',\n",
    "                  'Venue Category']\n",
    "\n",
    "    return(nearby_venues)\n",
    "\n"
   ],
   "metadata": {
    "collapsed": false,
    "pycharm": {
     "name": "#%%\n"
    }
   }
  },
  {
   "cell_type": "code",
   "execution_count": 7,
   "outputs": [
    {
     "name": "stdout",
     "output_type": "stream",
     "text": [
      "CENTRO              \n",
      "ARGANZUELA          \n",
      "RETIRO              \n",
      "SALAMANCA           \n",
      "CHAMARTIN           \n",
      "TETUAN              \n",
      "CHAMBERI            \n",
      "FUENCARRAL-EL PARDO \n",
      "MONCLOA-ARAVACA     \n",
      "LATINA              \n",
      "CARABANCHEL         \n",
      "USERA               \n",
      "PUENTE DE VALLECAS  \n",
      "MORATALAZ           \n",
      "CIUDAD LINEAL       \n",
      "HORTALEZA           \n",
      "VILLAVERDE          \n",
      "VILLA DE VALLECAS   \n",
      "VICALVARO           \n",
      "SAN BLAS-CANILLEJAS \n",
      "BARAJAS             \n"
     ]
    }
   ],
   "source": [
    "madrid_venues = getNearbyVenues(names=dfDistrito['Nombre de distrito'],\n",
    "                                   latitudes=dfDistrito['Latitude'],\n",
    "                                   longitudes=dfDistrito['Longitude']\n",
    "                                  )"
   ],
   "metadata": {
    "collapsed": false,
    "pycharm": {
     "name": "#%%\n"
    }
   }
  },
  {
   "cell_type": "markdown",
   "source": [
    "Feature Vector"
   ],
   "metadata": {
    "collapsed": false,
    "pycharm": {
     "name": "#%% md\n"
    }
   }
  },
  {
   "cell_type": "code",
   "source": [
    "allcategories=pd.DataFrame({'Venue Category':categories})\n",
    "aux=pd.concat([madrid_venues[madrid_venues['Venue Category'].isin(categories)],allcategories],ignore_index=True)\n",
    "madrid_venue_onehot=pd.get_dummies(aux[['Venue Category']],prefix='',prefix_sep='')\n",
    "madrid_venue_onehot=madrid_venue_onehot[:-len(categories)]\n",
    "madrid_venue_onehot.insert(0,'Neighborhood',madrid_venues['Neighborhood'])\n",
    "madrid_neigh_onehot=madrid_venue_onehot.groupby('Neighborhood').sum()"
   ],
   "metadata": {
    "collapsed": false,
    "pycharm": {
     "name": "#%%\n"
    }
   },
   "execution_count": 8,
   "outputs": []
  },
  {
   "cell_type": "markdown",
   "source": [
    "Transform features"
   ],
   "metadata": {
    "collapsed": false
   }
  },
  {
   "cell_type": "code",
   "execution_count": 9,
   "outputs": [],
   "source": [
    "scaler=StandardScaler()\n",
    "x=scaler.fit_transform(madrid_neigh_onehot.astype(float))"
   ],
   "metadata": {
    "collapsed": false,
    "pycharm": {
     "name": "#%%\n"
    }
   }
  },
  {
   "cell_type": "markdown",
   "source": [
    "Clustering"
   ],
   "metadata": {
    "collapsed": false
   }
  },
  {
   "cell_type": "code",
   "execution_count": 10,
   "outputs": [
    {
     "name": "stdout",
     "output_type": "stream",
     "text": [
      "2 cluster detected\n"
     ]
    }
   ],
   "source": [
    "#DBSCAN\n",
    "dbscan=DBSCAN(eps=10,min_samples=2)\n",
    "dbscan.fit(x)\n",
    "labels=dbscan.labels_\n",
    "clusterN=len(set(labels))\n",
    "print(clusterN, 'cluster detected')\n",
    "dbscandf=madrid_neigh_onehot.copy()\n",
    "dbscandf.insert(0,\"Cluster\",labels)"
   ],
   "metadata": {
    "collapsed": false,
    "pycharm": {
     "name": "#%%\n"
    }
   }
  },
  {
   "cell_type": "markdown",
   "source": [
    "2 cluster only,dbscan seem not to be efficient in this example"
   ],
   "metadata": {
    "collapsed": false,
    "pycharm": {
     "name": "#%% md\n"
    }
   }
  },
  {
   "cell_type": "code",
   "execution_count": 11,
   "outputs": [],
   "source": [
    "#KMeans\n",
    "kmeans=KMeans(random_state=10).fit(x)#Same random for always have same results\n",
    "labels=kmeans.labels_\n",
    "kmeansdf=madrid_neigh_onehot.copy()\n",
    "kmeansdf.insert(0,\"Cluster\",labels)\n",
    "\n"
   ],
   "metadata": {
    "collapsed": false,
    "pycharm": {
     "name": "#%%\n"
    }
   }
  },
  {
   "cell_type": "code",
   "execution_count": 12,
   "outputs": [
    {
     "data": {
      "text/plain": "<folium.folium.Map at 0x1555a0a3748>",
      "text/html": "<div style=\"width:100%;\"><div style=\"position:relative;width:100%;height:0;padding-bottom:60%;\"><span style=\"color:#565656\">Make this Notebook Trusted to load map: File -> Trust Notebook</span><iframe src=\"about:blank\" style=\"position:absolute;width:100%;height:100%;left:0;top:0;border:none !important;\" data-html=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 onload=\"this.contentDocument.open();this.contentDocument.write(atob(this.getAttribute('data-html')));this.contentDocument.close();\" allowfullscreen webkitallowfullscreen mozallowfullscreen></iframe></div></div>"
     },
     "execution_count": 12,
     "metadata": {},
     "output_type": "execute_result"
    }
   ],
   "source": [
    "geolocator = Nominatim(user_agent=\"ny_explorer\")\n",
    "location = geolocator.geocode('Madrid,Spain')\n",
    "latitude=location.latitude\n",
    "longitude=location.longitude\n",
    "map=folium.Map(location=[latitude, longitude], zoom_start=11)\n",
    "r=len(set(labels))\n",
    "y = np.arange(r)\n",
    "ys = [i+y+(i*y)**2 for i in range(r)]\n",
    "colors_array = cm.rainbow(np.linspace(0, 1, len(ys)))\n",
    "rainbow = [colors.rgb2hex(i) for i in colors_array]\n",
    "visualizationdf=dfDistrito.set_index('Nombre de distrito').join(kmeansdf,how='right')\n",
    "for lat, lon, poi, cluster in zip(visualizationdf['Latitude'], visualizationdf['Longitude'], visualizationdf.index.values, visualizationdf['Cluster']):\n",
    "    label = folium.Popup(str(poi) + ' Cluster ' + str(cluster), parse_html=True)\n",
    "    folium.CircleMarker(\n",
    "        [lat, lon],\n",
    "        radius=5,\n",
    "        popup=label,\n",
    "        color=rainbow[cluster-1],\n",
    "        fill=True,\n",
    "        fill_color=rainbow[cluster-1],\n",
    "        fill_opacity=0.7).add_to(map)\n",
    "map\n"
   ],
   "metadata": {
    "collapsed": false,
    "pycharm": {
     "name": "#%%\n"
    }
   }
  },
  {
   "cell_type": "markdown",
   "source": [
    "Find the best cluster of neighborhood"
   ],
   "metadata": {
    "collapsed": false
   }
  },
  {
   "cell_type": "code",
   "execution_count": 13,
   "outputs": [
    {
     "name": "stdout",
     "output_type": "stream",
     "text": [
      "[3 0 2 6 1 0 0 7 4 5]\n"
     ]
    }
   ],
   "source": [
    "#its better use x_test with information of the current neighborhood, but for privacy i use the same as train\n",
    "yhat_test = kmeans.predict(x)\n",
    "print(yhat_test)\n",
    "\n",
    "\n",
    "\n",
    "\n"
   ],
   "metadata": {
    "collapsed": false,
    "pycharm": {
     "name": "#%%\n"
    }
   }
  },
  {
   "cell_type": "code",
   "execution_count": 14,
   "outputs": [
    {
     "data": {
      "text/plain": "<folium.folium.Map at 0x1555a24d2e8>",
      "text/html": "<div style=\"width:100%;\"><div style=\"position:relative;width:100%;height:0;padding-bottom:60%;\"><span style=\"color:#565656\">Make this Notebook Trusted to load map: File -> Trust Notebook</span><iframe src=\"about:blank\" style=\"position:absolute;width:100%;height:100%;left:0;top:0;border:none !important;\" data-html=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 onload=\"this.contentDocument.open();this.contentDocument.write(atob(this.getAttribute('data-html')));this.contentDocument.close();\" allowfullscreen webkitallowfullscreen mozallowfullscreen></iframe></div></div>"
     },
     "execution_count": 14,
     "metadata": {},
     "output_type": "execute_result"
    }
   ],
   "source": [
    "#map of best neihborhood\n",
    "goodcluster=visualizationdf[visualizationdf['Cluster']==yhat_test[0]]\n",
    "bestneighborhoodmap=folium.Map(location=[latitude, longitude], zoom_start=13)\n",
    "for lat, lon, poi, cluster in zip(goodcluster['Latitude'], goodcluster['Longitude'], goodcluster.index.values, goodcluster['Cluster']):\n",
    "    label = folium.Popup(str(poi) + ' Cluster ' + str(cluster), parse_html=True)\n",
    "    folium.CircleMarker(\n",
    "        [lat, lon],\n",
    "        radius=4,\n",
    "        popup=label,\n",
    "        color='green',\n",
    "        fill=True,\n",
    "        fill_color=rainbow[cluster-1],\n",
    "        fill_opacity=0.7).add_to(bestneighborhoodmap)\n",
    "bestneighborhoodmap"
   ],
   "metadata": {
    "collapsed": false,
    "pycharm": {
     "name": "#%%\n"
    }
   }
  },
  {
   "cell_type": "code",
   "execution_count": 15,
   "outputs": [
    {
     "data": {
      "text/plain": "<Figure size 1440x720 with 1 Axes>",
      "image/png": "[encoded data removed]"
     },
     "metadata": {
      "needs_background": "light"
     },
     "output_type": "display_data"
    }
   ],
   "source": [
    "category_size = [36, 23, 12, 91, 7, 62, 41, 5, 145, 34]\n",
    "category_start = [sum(category_size[:index]) for index in range(len(category_size))]\n",
    "category_start.append(len(categories))\n",
    "#histogram of subcategories on best neigboorhood\n",
    "bestcluster_mean=goodcluster.groupby('Cluster').mean()\n",
    "histogram=pd.DataFrame()\n",
    "for i in range(len(category_size)):\n",
    "    name=results[i]['name']\n",
    "    count=bestcluster_mean.iloc[0,2+category_start[i]:2 + category_start[i+1]].sum()\n",
    "    histogram[name]=[count]\n",
    "histogram.iloc[0,:].plot(kind='bar',figsize=(20,10))\n",
    "plt.show()\n",
    "\n"
   ],
   "metadata": {
    "collapsed": false,
    "pycharm": {
     "name": "#%%\n"
    }
   }
  }
 ],
 "metadata": {
  "kernelspec": {
   "display_name": "Python 3",
   "language": "python",
   "name": "python3"
  },
  "language_info": {
   "codemirror_mode": {
    "name": "ipython",
    "version": 2
   },
   "file_extension": ".py",
   "mimetype": "text/x-python",
   "name": "python",
   "nbconvert_exporter": "python",
   "pygments_lexer": "ipython2",
   "version": "2.7.6"
  }
 },
 "nbformat": 4,
 "nbformat_minor": 0
}